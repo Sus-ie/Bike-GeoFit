{
 "cells": [
  {
   "cell_type": "markdown",
   "id": "b3d80be5-a1e0-44b3-8523-80f4e2773cec",
   "metadata": {},
   "source": [
    "<h1>Bike - GeoFit<h1>\n",
    "    \n",
    "<h3> Importing Libraries <h3></h3>"
   ]
  },
  {
   "cell_type": "code",
   "execution_count": 89,
   "id": "099a3e1a-5e18-4aa5-babb-59595ba4cfe6",
   "metadata": {},
   "outputs": [],
   "source": [
    "import sys \n",
    "\n",
    "import pandas as pd \n",
    "import numpy as np \n",
    "import re\n",
    "import IPython.display as display\n",
    "import matplotlib.pyplot as plt\n",
    "import seaborn as sns\n",
    "\n",
    "from scipy.stats import chi2_contingency\n",
    "from scipy.stats.contingency import association\n",
    "import scipy.stats as st\n",
    "import statsmodels.api as sm\n",
    "\n",
    "import scipy.stats as stats\n",
    "from statsmodels.stats.multicomp import pairwise_tukeyhsd\n",
    "\n",
    "import scipy.stats as stats\n",
    "\n",
    "\n",
    "from sklearn.model_selection import train_test_split\n",
    "from sklearn.metrics import r2_score, mean_squared_error, mean_absolute_error\n",
    "pd.set_option('display.max_columns', None)"
   ]
  },
  {
   "cell_type": "markdown",
   "id": "a9d7ea0a-695a-4949-9fd6-ae186ceb09fb",
   "metadata": {},
   "source": [
    "<h4> Ignoring warnings <h4>"
   ]
  },
  {
   "cell_type": "code",
   "execution_count": 91,
   "id": "17094c7d-402c-49b6-95c8-5561d8936537",
   "metadata": {},
   "outputs": [],
   "source": [
    "import warnings\n",
    "warnings.filterwarnings('ignore')"
   ]
  },
  {
   "cell_type": "markdown",
   "id": "9a0b7d3b-dbeb-467f-a2c9-b6900a2e1d71",
   "metadata": {},
   "source": [
    "<h2> Data Extraction <h2></h2>"
   ]
  },
  {
   "cell_type": "code",
   "execution_count": 93,
   "id": "c98c6cf2-f89f-4dd5-b7ad-e5e2bee119b0",
   "metadata": {},
   "outputs": [
    {
     "name": "stdout",
     "output_type": "stream",
     "text": [
      "Index(['URL', 'Brand', 'Model', 'Year', 'Category', 'Motorized', 'Frame Size',\n",
      "       'Frame Config', 'Wheel Size', 'Reach', 'Stack', 'STR', 'Front Center',\n",
      "       'Head Tube Angle', 'Seat Tube Angle Effective', 'Seat Tube Angle Real',\n",
      "       'Top Tube Length', 'Top Tube Length Horizontal', 'Head Tube Length',\n",
      "       'Seat Tube Length', 'Standover Height', 'Chainstay Length', 'Wheelbase',\n",
      "       'Bottom Bracket Offset', 'Bottom Bracket Height',\n",
      "       'Fork Installation Height', 'Fork Offset', 'Fork Trail',\n",
      "       'Suspension Travel (rear)', 'Suspension Travel (front)'],\n",
      "      dtype='object')\n",
      "Running inside virtual machine: /opt/anaconda3\n"
     ]
    }
   ],
   "source": [
    "df = pd.read_csv(\n",
    "    \"/Users/susanakohlhaas/Documents/IronHack/Final Project/geometrics.mtb-news.de.csv\",\n",
    "    delimiter=\";\",  \n",
    "    encoding='utf-8'\n",
    ")\n",
    "df.columns = df.columns.str.strip()\n",
    "print(df.columns)\n",
    "\n",
    "\n",
    "print(\"Running inside virtual machine:\", sys.prefix)"
   ]
  },
  {
   "cell_type": "markdown",
   "id": "8f7ac338-21c3-4d11-8fcf-578b2213a2ba",
   "metadata": {},
   "source": [
    "<h5>Check general information </h5>"
   ]
  },
  {
   "cell_type": "code",
   "execution_count": 95,
   "id": "1b5f5636-5417-4cc9-a141-23ce3a4da9b7",
   "metadata": {
    "scrolled": true
   },
   "outputs": [
    {
     "name": "stdout",
     "output_type": "stream",
     "text": [
      "<class 'pandas.core.frame.DataFrame'>\n",
      "RangeIndex: 6529 entries, 0 to 6528\n",
      "Data columns (total 30 columns):\n",
      " #   Column                      Non-Null Count  Dtype  \n",
      "---  ------                      --------------  -----  \n",
      " 0   URL                         6529 non-null   object \n",
      " 1   Brand                       6529 non-null   object \n",
      " 2   Model                       6529 non-null   object \n",
      " 3   Year                        6529 non-null   int64  \n",
      " 4   Category                    6529 non-null   object \n",
      " 5   Motorized                   6529 non-null   bool   \n",
      " 6   Frame Size                  6529 non-null   object \n",
      " 7   Frame Config                2318 non-null   object \n",
      " 8   Wheel Size                  6529 non-null   object \n",
      " 9   Reach                       6482 non-null   float64\n",
      " 10  Stack                       6432 non-null   float64\n",
      " 11  STR                         6432 non-null   float64\n",
      " 12  Front Center                849 non-null    float64\n",
      " 13  Head Tube Angle             6510 non-null   float64\n",
      " 14  Seat Tube Angle Effective   5284 non-null   float64\n",
      " 15  Seat Tube Angle Real        2686 non-null   float64\n",
      " 16  Top Tube Length             2239 non-null   float64\n",
      " 17  Top Tube Length Horizontal  4194 non-null   float64\n",
      " 18  Head Tube Length            6374 non-null   float64\n",
      " 19  Seat Tube Length            6297 non-null   float64\n",
      " 20  Standover Height            3714 non-null   float64\n",
      " 21  Chainstay Length            6485 non-null   float64\n",
      " 22  Wheelbase                   6168 non-null   float64\n",
      " 23  Bottom Bracket Offset       5616 non-null   float64\n",
      " 24  Bottom Bracket Height       2653 non-null   float64\n",
      " 25  Fork Installation Height    2360 non-null   float64\n",
      " 26  Fork Offset                 3554 non-null   float64\n",
      " 27  Fork Trail                  709 non-null    float64\n",
      " 28  Suspension Travel (rear)    3957 non-null   float64\n",
      " 29  Suspension Travel (front)   4389 non-null   float64\n",
      "dtypes: bool(1), float64(21), int64(1), object(7)\n",
      "memory usage: 1.5+ MB\n"
     ]
    }
   ],
   "source": [
    "df.info()"
   ]
  },
  {
   "cell_type": "markdown",
   "id": "25ed4071-e5be-4518-8532-b97674d6d4f0",
   "metadata": {},
   "source": [
    "<h5>Check Column information </h5>"
   ]
  },
  {
   "cell_type": "code",
   "execution_count": 97,
   "id": "005c8741-33e2-4211-a003-4c3ff235a686",
   "metadata": {},
   "outputs": [
    {
     "data": {
      "text/html": [
       "<div>\n",
       "<style scoped>\n",
       "    .dataframe tbody tr th:only-of-type {\n",
       "        vertical-align: middle;\n",
       "    }\n",
       "\n",
       "    .dataframe tbody tr th {\n",
       "        vertical-align: top;\n",
       "    }\n",
       "\n",
       "    .dataframe thead th {\n",
       "        text-align: right;\n",
       "    }\n",
       "</style>\n",
       "<table border=\"1\" class=\"dataframe\">\n",
       "  <thead>\n",
       "    <tr style=\"text-align: right;\">\n",
       "      <th></th>\n",
       "      <th>URL</th>\n",
       "      <th>Brand</th>\n",
       "      <th>Model</th>\n",
       "      <th>Year</th>\n",
       "      <th>Category</th>\n",
       "      <th>Motorized</th>\n",
       "      <th>Frame Size</th>\n",
       "      <th>Frame Config</th>\n",
       "      <th>Wheel Size</th>\n",
       "      <th>Reach</th>\n",
       "      <th>Stack</th>\n",
       "      <th>STR</th>\n",
       "      <th>Front Center</th>\n",
       "      <th>Head Tube Angle</th>\n",
       "      <th>Seat Tube Angle Effective</th>\n",
       "      <th>Seat Tube Angle Real</th>\n",
       "      <th>Top Tube Length</th>\n",
       "      <th>Top Tube Length Horizontal</th>\n",
       "      <th>Head Tube Length</th>\n",
       "      <th>Seat Tube Length</th>\n",
       "      <th>Standover Height</th>\n",
       "      <th>Chainstay Length</th>\n",
       "      <th>Wheelbase</th>\n",
       "      <th>Bottom Bracket Offset</th>\n",
       "      <th>Bottom Bracket Height</th>\n",
       "      <th>Fork Installation Height</th>\n",
       "      <th>Fork Offset</th>\n",
       "      <th>Fork Trail</th>\n",
       "      <th>Suspension Travel (rear)</th>\n",
       "      <th>Suspension Travel (front)</th>\n",
       "    </tr>\n",
       "  </thead>\n",
       "  <tbody>\n",
       "    <tr>\n",
       "      <th>0</th>\n",
       "      <td>https://geometrics.mtb-news.de/bike/1of1-r01-2...</td>\n",
       "      <td>1of1</td>\n",
       "      <td>R.01</td>\n",
       "      <td>2023</td>\n",
       "      <td>Road</td>\n",
       "      <td>False</td>\n",
       "      <td>XXS</td>\n",
       "      <td>NaN</td>\n",
       "      <td>28″ / 700C</td>\n",
       "      <td>376.0</td>\n",
       "      <td>512.0</td>\n",
       "      <td>1.361702</td>\n",
       "      <td>NaN</td>\n",
       "      <td>71.4</td>\n",
       "      <td>NaN</td>\n",
       "      <td>74.5</td>\n",
       "      <td>NaN</td>\n",
       "      <td>520.0</td>\n",
       "      <td>112.0</td>\n",
       "      <td>460.0</td>\n",
       "      <td>731.0</td>\n",
       "      <td>408.0</td>\n",
       "      <td>972.0</td>\n",
       "      <td>NaN</td>\n",
       "      <td>NaN</td>\n",
       "      <td>NaN</td>\n",
       "      <td>NaN</td>\n",
       "      <td>NaN</td>\n",
       "      <td>NaN</td>\n",
       "      <td>NaN</td>\n",
       "    </tr>\n",
       "    <tr>\n",
       "      <th>1</th>\n",
       "      <td>https://geometrics.mtb-news.de/bike/1of1-r01-2...</td>\n",
       "      <td>1of1</td>\n",
       "      <td>R.01</td>\n",
       "      <td>2023</td>\n",
       "      <td>Road</td>\n",
       "      <td>False</td>\n",
       "      <td>XS</td>\n",
       "      <td>NaN</td>\n",
       "      <td>28″ / 700C</td>\n",
       "      <td>370.0</td>\n",
       "      <td>500.0</td>\n",
       "      <td>1.351351</td>\n",
       "      <td>NaN</td>\n",
       "      <td>70.8</td>\n",
       "      <td>NaN</td>\n",
       "      <td>75.0</td>\n",
       "      <td>NaN</td>\n",
       "      <td>505.0</td>\n",
       "      <td>102.0</td>\n",
       "      <td>430.0</td>\n",
       "      <td>713.0</td>\n",
       "      <td>408.0</td>\n",
       "      <td>966.0</td>\n",
       "      <td>NaN</td>\n",
       "      <td>NaN</td>\n",
       "      <td>NaN</td>\n",
       "      <td>NaN</td>\n",
       "      <td>NaN</td>\n",
       "      <td>NaN</td>\n",
       "      <td>NaN</td>\n",
       "    </tr>\n",
       "    <tr>\n",
       "      <th>2</th>\n",
       "      <td>https://geometrics.mtb-news.de/bike/1of1-r01-2...</td>\n",
       "      <td>1of1</td>\n",
       "      <td>R.01</td>\n",
       "      <td>2023</td>\n",
       "      <td>Road</td>\n",
       "      <td>False</td>\n",
       "      <td>S</td>\n",
       "      <td>NaN</td>\n",
       "      <td>28″ / 700C</td>\n",
       "      <td>383.0</td>\n",
       "      <td>530.0</td>\n",
       "      <td>1.383812</td>\n",
       "      <td>NaN</td>\n",
       "      <td>72.0</td>\n",
       "      <td>NaN</td>\n",
       "      <td>74.5</td>\n",
       "      <td>NaN</td>\n",
       "      <td>535.0</td>\n",
       "      <td>127.0</td>\n",
       "      <td>490.0</td>\n",
       "      <td>758.0</td>\n",
       "      <td>408.0</td>\n",
       "      <td>981.0</td>\n",
       "      <td>NaN</td>\n",
       "      <td>NaN</td>\n",
       "      <td>NaN</td>\n",
       "      <td>NaN</td>\n",
       "      <td>NaN</td>\n",
       "      <td>NaN</td>\n",
       "      <td>NaN</td>\n",
       "    </tr>\n",
       "    <tr>\n",
       "      <th>3</th>\n",
       "      <td>https://geometrics.mtb-news.de/bike/1of1-r01-2...</td>\n",
       "      <td>1of1</td>\n",
       "      <td>R.01</td>\n",
       "      <td>2023</td>\n",
       "      <td>Road</td>\n",
       "      <td>False</td>\n",
       "      <td>M</td>\n",
       "      <td>NaN</td>\n",
       "      <td>28″ / 700C</td>\n",
       "      <td>390.0</td>\n",
       "      <td>549.0</td>\n",
       "      <td>1.407692</td>\n",
       "      <td>NaN</td>\n",
       "      <td>72.0</td>\n",
       "      <td>NaN</td>\n",
       "      <td>73.5</td>\n",
       "      <td>NaN</td>\n",
       "      <td>550.0</td>\n",
       "      <td>147.0</td>\n",
       "      <td>520.0</td>\n",
       "      <td>785.0</td>\n",
       "      <td>408.0</td>\n",
       "      <td>985.0</td>\n",
       "      <td>NaN</td>\n",
       "      <td>NaN</td>\n",
       "      <td>NaN</td>\n",
       "      <td>NaN</td>\n",
       "      <td>NaN</td>\n",
       "      <td>NaN</td>\n",
       "      <td>NaN</td>\n",
       "    </tr>\n",
       "    <tr>\n",
       "      <th>4</th>\n",
       "      <td>https://geometrics.mtb-news.de/bike/1of1-r01-2...</td>\n",
       "      <td>1of1</td>\n",
       "      <td>R.01</td>\n",
       "      <td>2023</td>\n",
       "      <td>Road</td>\n",
       "      <td>False</td>\n",
       "      <td>L</td>\n",
       "      <td>NaN</td>\n",
       "      <td>28″ / 700C</td>\n",
       "      <td>397.0</td>\n",
       "      <td>571.0</td>\n",
       "      <td>1.438287</td>\n",
       "      <td>NaN</td>\n",
       "      <td>72.0</td>\n",
       "      <td>NaN</td>\n",
       "      <td>73.5</td>\n",
       "      <td>NaN</td>\n",
       "      <td>570.0</td>\n",
       "      <td>167.0</td>\n",
       "      <td>550.0</td>\n",
       "      <td>810.0</td>\n",
       "      <td>408.0</td>\n",
       "      <td>999.0</td>\n",
       "      <td>NaN</td>\n",
       "      <td>NaN</td>\n",
       "      <td>NaN</td>\n",
       "      <td>NaN</td>\n",
       "      <td>NaN</td>\n",
       "      <td>NaN</td>\n",
       "      <td>NaN</td>\n",
       "    </tr>\n",
       "  </tbody>\n",
       "</table>\n",
       "</div>"
      ],
      "text/plain": [
       "                                                 URL Brand Model  Year  \\\n",
       "0  https://geometrics.mtb-news.de/bike/1of1-r01-2...  1of1  R.01  2023   \n",
       "1  https://geometrics.mtb-news.de/bike/1of1-r01-2...  1of1  R.01  2023   \n",
       "2  https://geometrics.mtb-news.de/bike/1of1-r01-2...  1of1  R.01  2023   \n",
       "3  https://geometrics.mtb-news.de/bike/1of1-r01-2...  1of1  R.01  2023   \n",
       "4  https://geometrics.mtb-news.de/bike/1of1-r01-2...  1of1  R.01  2023   \n",
       "\n",
       "  Category  Motorized Frame Size Frame Config  Wheel Size  Reach  Stack  \\\n",
       "0     Road      False        XXS          NaN  28″ / 700C  376.0  512.0   \n",
       "1     Road      False         XS          NaN  28″ / 700C  370.0  500.0   \n",
       "2     Road      False          S          NaN  28″ / 700C  383.0  530.0   \n",
       "3     Road      False          M          NaN  28″ / 700C  390.0  549.0   \n",
       "4     Road      False          L          NaN  28″ / 700C  397.0  571.0   \n",
       "\n",
       "        STR  Front Center  Head Tube Angle  Seat Tube Angle Effective  \\\n",
       "0  1.361702           NaN             71.4                        NaN   \n",
       "1  1.351351           NaN             70.8                        NaN   \n",
       "2  1.383812           NaN             72.0                        NaN   \n",
       "3  1.407692           NaN             72.0                        NaN   \n",
       "4  1.438287           NaN             72.0                        NaN   \n",
       "\n",
       "   Seat Tube Angle Real  Top Tube Length  Top Tube Length Horizontal  \\\n",
       "0                  74.5              NaN                       520.0   \n",
       "1                  75.0              NaN                       505.0   \n",
       "2                  74.5              NaN                       535.0   \n",
       "3                  73.5              NaN                       550.0   \n",
       "4                  73.5              NaN                       570.0   \n",
       "\n",
       "   Head Tube Length  Seat Tube Length  Standover Height  Chainstay Length  \\\n",
       "0             112.0             460.0             731.0             408.0   \n",
       "1             102.0             430.0             713.0             408.0   \n",
       "2             127.0             490.0             758.0             408.0   \n",
       "3             147.0             520.0             785.0             408.0   \n",
       "4             167.0             550.0             810.0             408.0   \n",
       "\n",
       "   Wheelbase  Bottom Bracket Offset  Bottom Bracket Height  \\\n",
       "0      972.0                    NaN                    NaN   \n",
       "1      966.0                    NaN                    NaN   \n",
       "2      981.0                    NaN                    NaN   \n",
       "3      985.0                    NaN                    NaN   \n",
       "4      999.0                    NaN                    NaN   \n",
       "\n",
       "   Fork Installation Height  Fork Offset  Fork Trail  \\\n",
       "0                       NaN          NaN         NaN   \n",
       "1                       NaN          NaN         NaN   \n",
       "2                       NaN          NaN         NaN   \n",
       "3                       NaN          NaN         NaN   \n",
       "4                       NaN          NaN         NaN   \n",
       "\n",
       "   Suspension Travel (rear)  Suspension Travel (front)  \n",
       "0                       NaN                        NaN  \n",
       "1                       NaN                        NaN  \n",
       "2                       NaN                        NaN  \n",
       "3                       NaN                        NaN  \n",
       "4                       NaN                        NaN  "
      ]
     },
     "execution_count": 97,
     "metadata": {},
     "output_type": "execute_result"
    }
   ],
   "source": [
    "df.head()"
   ]
  },
  {
   "cell_type": "markdown",
   "id": "79a65cb5-80ac-4952-baed-1d8e50b50180",
   "metadata": {},
   "source": [
    "<h5> Remove columns that are not needed </h5>"
   ]
  },
  {
   "cell_type": "code",
   "execution_count": 99,
   "id": "7f9f7ab4-adf2-484c-ae7a-8e9ce093af2a",
   "metadata": {},
   "outputs": [
    {
     "data": {
      "text/html": [
       "<div>\n",
       "<style scoped>\n",
       "    .dataframe tbody tr th:only-of-type {\n",
       "        vertical-align: middle;\n",
       "    }\n",
       "\n",
       "    .dataframe tbody tr th {\n",
       "        vertical-align: top;\n",
       "    }\n",
       "\n",
       "    .dataframe thead th {\n",
       "        text-align: right;\n",
       "    }\n",
       "</style>\n",
       "<table border=\"1\" class=\"dataframe\">\n",
       "  <thead>\n",
       "    <tr style=\"text-align: right;\">\n",
       "      <th></th>\n",
       "      <th>URL</th>\n",
       "      <th>Brand</th>\n",
       "      <th>Model</th>\n",
       "      <th>Year</th>\n",
       "      <th>Category</th>\n",
       "      <th>Frame Size</th>\n",
       "      <th>Wheel Size</th>\n",
       "      <th>Reach</th>\n",
       "      <th>Stack</th>\n",
       "      <th>STR</th>\n",
       "      <th>Head Tube Angle</th>\n",
       "      <th>Seat Tube Angle Effective</th>\n",
       "      <th>Top Tube Length</th>\n",
       "      <th>Standover Height</th>\n",
       "      <th>Chainstay Length</th>\n",
       "      <th>Wheelbase</th>\n",
       "    </tr>\n",
       "  </thead>\n",
       "  <tbody>\n",
       "    <tr>\n",
       "      <th>0</th>\n",
       "      <td>https://geometrics.mtb-news.de/bike/1of1-r01-2...</td>\n",
       "      <td>1of1</td>\n",
       "      <td>R.01</td>\n",
       "      <td>2023</td>\n",
       "      <td>Road</td>\n",
       "      <td>XXS</td>\n",
       "      <td>28″ / 700C</td>\n",
       "      <td>376.0</td>\n",
       "      <td>512.0</td>\n",
       "      <td>1.361702</td>\n",
       "      <td>71.4</td>\n",
       "      <td>NaN</td>\n",
       "      <td>NaN</td>\n",
       "      <td>731.0</td>\n",
       "      <td>408.0</td>\n",
       "      <td>972.0</td>\n",
       "    </tr>\n",
       "    <tr>\n",
       "      <th>1</th>\n",
       "      <td>https://geometrics.mtb-news.de/bike/1of1-r01-2...</td>\n",
       "      <td>1of1</td>\n",
       "      <td>R.01</td>\n",
       "      <td>2023</td>\n",
       "      <td>Road</td>\n",
       "      <td>XS</td>\n",
       "      <td>28″ / 700C</td>\n",
       "      <td>370.0</td>\n",
       "      <td>500.0</td>\n",
       "      <td>1.351351</td>\n",
       "      <td>70.8</td>\n",
       "      <td>NaN</td>\n",
       "      <td>NaN</td>\n",
       "      <td>713.0</td>\n",
       "      <td>408.0</td>\n",
       "      <td>966.0</td>\n",
       "    </tr>\n",
       "    <tr>\n",
       "      <th>2</th>\n",
       "      <td>https://geometrics.mtb-news.de/bike/1of1-r01-2...</td>\n",
       "      <td>1of1</td>\n",
       "      <td>R.01</td>\n",
       "      <td>2023</td>\n",
       "      <td>Road</td>\n",
       "      <td>S</td>\n",
       "      <td>28″ / 700C</td>\n",
       "      <td>383.0</td>\n",
       "      <td>530.0</td>\n",
       "      <td>1.383812</td>\n",
       "      <td>72.0</td>\n",
       "      <td>NaN</td>\n",
       "      <td>NaN</td>\n",
       "      <td>758.0</td>\n",
       "      <td>408.0</td>\n",
       "      <td>981.0</td>\n",
       "    </tr>\n",
       "    <tr>\n",
       "      <th>3</th>\n",
       "      <td>https://geometrics.mtb-news.de/bike/1of1-r01-2...</td>\n",
       "      <td>1of1</td>\n",
       "      <td>R.01</td>\n",
       "      <td>2023</td>\n",
       "      <td>Road</td>\n",
       "      <td>M</td>\n",
       "      <td>28″ / 700C</td>\n",
       "      <td>390.0</td>\n",
       "      <td>549.0</td>\n",
       "      <td>1.407692</td>\n",
       "      <td>72.0</td>\n",
       "      <td>NaN</td>\n",
       "      <td>NaN</td>\n",
       "      <td>785.0</td>\n",
       "      <td>408.0</td>\n",
       "      <td>985.0</td>\n",
       "    </tr>\n",
       "    <tr>\n",
       "      <th>4</th>\n",
       "      <td>https://geometrics.mtb-news.de/bike/1of1-r01-2...</td>\n",
       "      <td>1of1</td>\n",
       "      <td>R.01</td>\n",
       "      <td>2023</td>\n",
       "      <td>Road</td>\n",
       "      <td>L</td>\n",
       "      <td>28″ / 700C</td>\n",
       "      <td>397.0</td>\n",
       "      <td>571.0</td>\n",
       "      <td>1.438287</td>\n",
       "      <td>72.0</td>\n",
       "      <td>NaN</td>\n",
       "      <td>NaN</td>\n",
       "      <td>810.0</td>\n",
       "      <td>408.0</td>\n",
       "      <td>999.0</td>\n",
       "    </tr>\n",
       "  </tbody>\n",
       "</table>\n",
       "</div>"
      ],
      "text/plain": [
       "                                                 URL Brand Model  Year  \\\n",
       "0  https://geometrics.mtb-news.de/bike/1of1-r01-2...  1of1  R.01  2023   \n",
       "1  https://geometrics.mtb-news.de/bike/1of1-r01-2...  1of1  R.01  2023   \n",
       "2  https://geometrics.mtb-news.de/bike/1of1-r01-2...  1of1  R.01  2023   \n",
       "3  https://geometrics.mtb-news.de/bike/1of1-r01-2...  1of1  R.01  2023   \n",
       "4  https://geometrics.mtb-news.de/bike/1of1-r01-2...  1of1  R.01  2023   \n",
       "\n",
       "  Category Frame Size  Wheel Size  Reach  Stack       STR  Head Tube Angle  \\\n",
       "0     Road        XXS  28″ / 700C  376.0  512.0  1.361702             71.4   \n",
       "1     Road         XS  28″ / 700C  370.0  500.0  1.351351             70.8   \n",
       "2     Road          S  28″ / 700C  383.0  530.0  1.383812             72.0   \n",
       "3     Road          M  28″ / 700C  390.0  549.0  1.407692             72.0   \n",
       "4     Road          L  28″ / 700C  397.0  571.0  1.438287             72.0   \n",
       "\n",
       "   Seat Tube Angle Effective  Top Tube Length  Standover Height  \\\n",
       "0                        NaN              NaN             731.0   \n",
       "1                        NaN              NaN             713.0   \n",
       "2                        NaN              NaN             758.0   \n",
       "3                        NaN              NaN             785.0   \n",
       "4                        NaN              NaN             810.0   \n",
       "\n",
       "   Chainstay Length  Wheelbase  \n",
       "0             408.0      972.0  \n",
       "1             408.0      966.0  \n",
       "2             408.0      981.0  \n",
       "3             408.0      985.0  \n",
       "4             408.0      999.0  "
      ]
     },
     "execution_count": 99,
     "metadata": {},
     "output_type": "execute_result"
    }
   ],
   "source": [
    "columns_to_remove = [\n",
    "    \"Motorized\", \"Frame Config\", \"Front Center\", \"Frame Config\",\n",
    "    \"Seat Tube Angle Real\", \"Top Tube Length Horizontal\", \"Head Tube Length\", \n",
    "    \"Seat Tube Length\", \"Bottom Bracket Offset\", \"Bottom Bracket Height\", \n",
    "    \"Fork Installation Height\", \"Fork Offset\", \"Fork Trail\", \n",
    "    \"Suspension Travel (rear)\", \"Suspension Travel (front)\"\n",
    "]\n",
    "\n",
    "df = df.drop(columns=columns_to_remove, errors='ignore')\n",
    "df.head()"
   ]
  },
  {
   "cell_type": "markdown",
   "id": "7a128ec4-6d33-41a1-917f-71b6e51479bc",
   "metadata": {},
   "source": [
    "<h4> Round up Columns up</h4>"
   ]
  },
  {
   "cell_type": "code",
   "execution_count": 101,
   "id": "8d08afb9-f9b4-471c-bbb5-d956ba4e5544",
   "metadata": {},
   "outputs": [
    {
     "name": "stdout",
     "output_type": "stream",
     "text": [
      "   Wheelbase  Chainstay Length  Standover Height  Top Tube Length  \\\n",
      "0      972.0             408.0             731.0              NaN   \n",
      "1      966.0             408.0             713.0              NaN   \n",
      "2      981.0             408.0             758.0              NaN   \n",
      "3      985.0             408.0             785.0              NaN   \n",
      "4      999.0             408.0             810.0              NaN   \n",
      "\n",
      "   Seat Tube Angle Effective  Head Tube Angle   STR  Stack  Reach  \n",
      "0                        NaN            71.41  1.37  512.0  376.0  \n",
      "1                        NaN            70.80  1.36  500.0  370.0  \n",
      "2                        NaN            72.00  1.39  530.0  383.0  \n",
      "3                        NaN            72.00  1.41  549.0  390.0  \n",
      "4                        NaN            72.00  1.44  571.0  397.0  \n"
     ]
    }
   ],
   "source": [
    "import numpy as np\n",
    "\n",
    "columns_to_round_up = [\n",
    "    \"Wheelbase\",\n",
    "    \"Chainstay Length\",\n",
    "    \"Standover Height\",\n",
    "    \"Top Tube Length\",\n",
    "    \"Seat Tube Angle Effective\",\n",
    "    \"Head Tube Angle\",\n",
    "    \"STR\",\n",
    "    \"Stack\",\n",
    "    \"Reach\"\n",
    "]\n",
    "\n",
    "for column in columns_to_round_up:\n",
    "    if column in df.columns:\n",
    "        df[column] = np.ceil(df[column] * 100) / 100  # Rounds up to 2 decimal places\n",
    "    else:\n",
    "        print(f\"Warning: Column '{column}' not found in the DataFrame.\")\n",
    "\n",
    "print(df[columns_to_round_up].head())\n"
   ]
  },
  {
   "cell_type": "markdown",
   "id": "01a7b81a-c473-45d1-9301-def6141f775b",
   "metadata": {},
   "source": [
    "<h4> Wheel Size Clean up</h4>"
   ]
  },
  {
   "cell_type": "code",
   "execution_count": 103,
   "id": "ec0135a4-3aa4-4d5d-9120-3843a9d7d1dd",
   "metadata": {},
   "outputs": [
    {
     "name": "stdout",
     "output_type": "stream",
     "text": [
      "<class 'pandas.core.frame.DataFrame'>\n",
      "6529\n",
      "                                                 URL Brand Model  Year  \\\n",
      "0  https://geometrics.mtb-news.de/bike/1of1-r01-2...  1of1  R.01  2023   \n",
      "1  https://geometrics.mtb-news.de/bike/1of1-r01-2...  1of1  R.01  2023   \n",
      "2  https://geometrics.mtb-news.de/bike/1of1-r01-2...  1of1  R.01  2023   \n",
      "3  https://geometrics.mtb-news.de/bike/1of1-r01-2...  1of1  R.01  2023   \n",
      "4  https://geometrics.mtb-news.de/bike/1of1-r01-2...  1of1  R.01  2023   \n",
      "\n",
      "  Category Frame Size  Wheel Size  Reach  Stack   STR  Head Tube Angle  \\\n",
      "0     Road        XXS  28″ / 700C  376.0  512.0  1.37            71.41   \n",
      "1     Road         XS  28″ / 700C  370.0  500.0  1.36            70.80   \n",
      "2     Road          S  28″ / 700C  383.0  530.0  1.39            72.00   \n",
      "3     Road          M  28″ / 700C  390.0  549.0  1.41            72.00   \n",
      "4     Road          L  28″ / 700C  397.0  571.0  1.44            72.00   \n",
      "\n",
      "   Seat Tube Angle Effective  Top Tube Length  Standover Height  \\\n",
      "0                        NaN              NaN             731.0   \n",
      "1                        NaN              NaN             713.0   \n",
      "2                        NaN              NaN             758.0   \n",
      "3                        NaN              NaN             785.0   \n",
      "4                        NaN              NaN             810.0   \n",
      "\n",
      "   Chainstay Length  Wheelbase  \n",
      "0             408.0      972.0  \n",
      "1             408.0      966.0  \n",
      "2             408.0      981.0  \n",
      "3             408.0      985.0  \n",
      "4             408.0      999.0  \n"
     ]
    }
   ],
   "source": [
    "print(type(df))           # Check the type of df\n",
    "print(len(df))            # If df is a list, how many elements does it have?\n",
    "print(df[:5])             # Preview the first few items\n"
   ]
  },
  {
   "cell_type": "code",
   "execution_count": 105,
   "id": "e86c423a-622f-401d-8b0d-7fbce72aba3f",
   "metadata": {},
   "outputs": [
    {
     "name": "stdout",
     "output_type": "stream",
     "text": [
      "<class 'pandas.core.frame.DataFrame'>\n"
     ]
    },
    {
     "data": {
      "text/plain": [
       "array(['28″ / 700C', '27,5″ / 650B', '29″', 'Mullet 29/27,5', '26″',\n",
       "       'andere', '24″', '20″', 'Mullet 27,5/26'], dtype=object)"
      ]
     },
     "execution_count": 105,
     "metadata": {},
     "output_type": "execute_result"
    }
   ],
   "source": [
    "df = pd.DataFrame(df)\n",
    "print(type(df))\n",
    "df[\"Wheel Size\"].unique()"
   ]
  },
  {
   "cell_type": "code",
   "execution_count": null,
   "id": "77cb262d-92fb-4cda-b6f9-4908c803b66b",
   "metadata": {},
   "outputs": [],
   "source": [
    "df[\"Wheel Size\"].value_counts()"
   ]
  },
  {
   "cell_type": "code",
   "execution_count": 107,
   "id": "82a11e04-aea3-484d-b372-b5711cf67c57",
   "metadata": {},
   "outputs": [],
   "source": [
    "df[\"Wheel Size\"].value_counts(dropna=False)\n",
    "df = df.dropna(subset=[\"Wheel Size\"])"
   ]
  },
  {
   "cell_type": "markdown",
   "id": "df8b8195-d4a1-4747-ab8e-f5ea62b5008b",
   "metadata": {},
   "source": [
    "<h4> Frame Size Clean up</h4>"
   ]
  },
  {
   "cell_type": "code",
   "execution_count": null,
   "id": "04590481-e1bf-49a1-ba93-1b4e6317396e",
   "metadata": {},
   "outputs": [],
   "source": [
    "df[\"Frame Size\"].unique()"
   ]
  },
  {
   "cell_type": "code",
   "execution_count": 109,
   "id": "cb7a4500-be4d-4c17-a2ae-1469db2039fe",
   "metadata": {},
   "outputs": [
    {
     "name": "stdout",
     "output_type": "stream",
     "text": [
      "Frame Size\n",
      "L                1121\n",
      "M                1120\n",
      "XL               1088\n",
      "S                 958\n",
      "XS                245\n",
      "XXL               184\n",
      "SM                 81\n",
      "MD                 78\n",
      "56                 78\n",
      "58                 73\n",
      "54                 69\n",
      "LG                 69\n",
      "61                 48\n",
      "51                 43\n",
      "S2                 42\n",
      "S3                 41\n",
      "52                 39\n",
      "S4                 33\n",
      "S1                 33\n",
      "49                 32\n",
      "S5                 31\n",
      "60                 30\n",
      "50                 30\n",
      "53                 29\n",
      "Medium             28\n",
      "Large              27\n",
      "47                 26\n",
      "ML                 25\n",
      "M/L                24\n",
      "55                 23\n",
      "57                 21\n",
      "S6                 21\n",
      "XXS                20\n",
      "48                 19\n",
      "L/XL               18\n",
      "S/M                18\n",
      "62                 16\n",
      "59                 16\n",
      "Small              15\n",
      "X-Large            14\n",
      "44                 12\n",
      "One Size           11\n",
      "2XS                11\n",
      "2XL                 8\n",
      "165                 8\n",
      "195                 8\n",
      "185                 8\n",
      "175                 8\n",
      "530                 7\n",
      "18\"                 7\n",
      "500                 7\n",
      "Unisize             7\n",
      "S 27,5\"             6\n",
      "16\"                 6\n",
      "large               6\n",
      "medium large        6\n",
      "small               6\n",
      "S 29\"               6\n",
      "550                 6\n",
      "22\"                 6\n",
      "20\"                 6\n",
      "Onesize             5\n",
      "C2                  5\n",
      "C5                  5\n",
      "C4                  5\n",
      "64                  5\n",
      "C3                  5\n",
      "3XS                 5\n",
      "C1                  5\n",
      "24                  5\n",
      "45                  5\n",
      "46                  4\n",
      "20                  4\n",
      "460                 4\n",
      "R1                  4\n",
      "x-large             4\n",
      "R3                  4\n",
      "R2                  4\n",
      "K3                  4\n",
      "K1                  4\n",
      "K2                  4\n",
      "LA                  4\n",
      "470                 3\n",
      "Long                3\n",
      "XS/49               3\n",
      "570                 3\n",
      "575                 3\n",
      "600                 3\n",
      "430                 3\n",
      "K4                  3\n",
      "58 cm               3\n",
      "P1                  3\n",
      "P2                  3\n",
      "P3                  3\n",
      "26                  3\n",
      "P4                  3\n",
      "63                  3\n",
      "56 cm               3\n",
      "L/56                3\n",
      "M/54                3\n",
      "61 cm               3\n",
      "XL/58               3\n",
      "170                 3\n",
      "200                 3\n",
      "52 cm               3\n",
      "S-M                 3\n",
      "560                 3\n",
      "Extra Large         3\n",
      "S/52                3\n",
      "190                 3\n",
      "580                 3\n",
      "180                 3\n",
      "XX-Large            3\n",
      "49 cm               3\n",
      "21,5″               2\n",
      "62 cm               2\n",
      "Extra-Large         2\n",
      "50 cm               2\n",
      "13                  2\n",
      "M 29\"               2\n",
      "M 27,5\"             2\n",
      "XLarge              2\n",
      "59 cm               2\n",
      "NP2                 2\n",
      "XXX-Large           2\n",
      "NP1                 2\n",
      "155                 2\n",
      "H1                  2\n",
      "H2                  2\n",
      "H3                  2\n",
      "19,5″               2\n",
      "18,5″               2\n",
      "17,5″               2\n",
      "H4                  2\n",
      "NP3                 2\n",
      "515                 2\n",
      "54 cm               2\n",
      "545                 2\n",
      "27                  2\n",
      "530 XX-Tall         2\n",
      "490                 2\n",
      "55 cm               2\n",
      "510 X-Tall          2\n",
      "410 Low             2\n",
      "420 Low             2\n",
      "430 Low             2\n",
      "440 Low             2\n",
      "450 Low             2\n",
      "450 Reg             2\n",
      "19\"                 2\n",
      "460 Low             2\n",
      "460 Reg             2\n",
      "470 Low             2\n",
      "610                 2\n",
      "590                 2\n",
      "520                 2\n",
      "470 Reg             2\n",
      "480 Reg             2\n",
      "490 Reg             2\n",
      "490 Tall            2\n",
      "500 Reg             2\n",
      "530 Tall            2\n",
      "XXXS                2\n",
      "520 Tall            2\n",
      "15,5″               1\n",
      "MAXC29              1\n",
      "51/XS               1\n",
      "54/S                1\n",
      "57/M                1\n",
      "60/L                1\n",
      "63/XL               1\n",
      "500 kurz            1\n",
      "53 cm               1\n",
      "450                 1\n",
      "MAXC275             1\n",
      "MAXC26              1\n",
      "57 cm               1\n",
      "Fred 275            1\n",
      "Fred 265            1\n",
      "500 lang            1\n",
      "48/XXS              1\n",
      "XL / 22″            1\n",
      "23\"                 1\n",
      "Trixi20             1\n",
      "510 Reg             1\n",
      "SZ3                 1\n",
      "500 Tall            1\n",
      "SZ2                 1\n",
      "SZ1                 1\n",
      "Trixi24             1\n",
      "16″                 1\n",
      "S / 16″             1\n",
      "18″                 1\n",
      "20″                 1\n",
      "22″                 1\n",
      "480 Low             1\n",
      "L / 20″             1\n",
      "M / 18″             1\n",
      "65                  1\n",
      "52.5 cm             1\n",
      "54.5 cm             1\n",
      "10                  1\n",
      "XL (22)             1\n",
      "XS (14)             1\n",
      "22                  1\n",
      "BO16                1\n",
      "BO20                1\n",
      "BO24                1\n",
      "47 cm               1\n",
      "T3                  1\n",
      "60 cm               1\n",
      "64 cm               1\n",
      "9                   1\n",
      "8                   1\n",
      "19,5\"               1\n",
      "21,5\"               1\n",
      "7                   1\n",
      "6                   1\n",
      "S (16)              1\n",
      "M (18)              1\n",
      "5                   1\n",
      "L (20)              1\n",
      "4                   1\n",
      "12                  1\n",
      "XXS/47              1\n",
      "XXL/61              1\n",
      "23″                 1\n",
      "3                   1\n",
      "2                   1\n",
      "1                   1\n",
      "T1                  1\n",
      "57.5 cm             1\n",
      "T2                  1\n",
      "11                  1\n",
      "M (17)              1\n",
      "K0                  1\n",
      "R530                1\n",
      "420                 1\n",
      "X-Small             1\n",
      "R570                1\n",
      "R550                1\n",
      "L (57)              1\n",
      "M (54)              1\n",
      "S (51)              1\n",
      "XL (60)             1\n",
      "R510                1\n",
      "54,5                1\n",
      "R485                1\n",
      "55 (M)              1\n",
      "56 (L)              1\n",
      "58 (XL)             1\n",
      "60 (XXL)            1\n",
      "R455                1\n",
      "R420                1\n",
      "X-LARGE             1\n",
      "56,5                1\n",
      "455                 1\n",
      "520 X-Tall          1\n",
      "XS 13.5\"            1\n",
      "XL (21)             1\n",
      "XS (13,5)           1\n",
      "XXL (23)            1\n",
      "L (19)              1\n",
      "Einheitsgröße       1\n",
      "JR                  1\n",
      "510                 1\n",
      "S 16\"               1\n",
      "13.5\" / XS          1\n",
      "50,5                1\n",
      "16\" / S             1\n",
      "L / 18\"             1\n",
      "M / 16\"             1\n",
      "XS / 13.5\"          1\n",
      "485                 1\n",
      "42,5                1\n",
      "44,5                1\n",
      "46,5                1\n",
      "XX-LARGE            1\n",
      "54cm                1\n",
      "48cm                1\n",
      "S2 - lang           1\n",
      "19,5                1\n",
      "21                  1\n",
      "S 27,5              1\n",
      "S27                 1\n",
      "S29                 1\n",
      "S1 - kurz           1\n",
      "S1 - lang           1\n",
      "S2 - kurz           1\n",
      "465                 1\n",
      "44cm                1\n",
      "520 XX-Tall         1\n",
      "510 Tall            1\n",
      "500 X-Tall          1\n",
      "595                 1\n",
      "480 Tall            1\n",
      "Longer              1\n",
      "Longish             1\n",
      "S (15)              1\n",
      "18                  1\n",
      "16                  1\n",
      "Regular             1\n",
      "480                 1\n",
      "41cm                1\n",
      "53 (L)              1\n",
      "50 (M)              1\n",
      "47 (S)              1\n",
      "21\"                 1\n",
      "48,5 (XS)           1\n",
      "50 (S)              1\n",
      "52 (M)              1\n",
      "L-XL                1\n",
      "XS-S                1\n",
      "20 Zoll             1\n",
      "24 Zoll             1\n",
      "26 Zoll             1\n",
      "17\"                 1\n",
      "15\"                 1\n",
      "Medium Long         1\n",
      "540                 1\n",
      "52,5                1\n",
      "Name: count, dtype: int64\n"
     ]
    }
   ],
   "source": [
    "pd.set_option('display.max_rows', None)\n",
    "print(df[\"Frame Size\"].value_counts())"
   ]
  },
  {
   "cell_type": "code",
   "execution_count": 113,
   "id": "bc6904f9-3bab-4605-8c5a-75403ca23d28",
   "metadata": {},
   "outputs": [],
   "source": [
    "frame_sizes_to_keep = [\"XXL\", \"XL\", \"L\", \"M\", \"S\", \"XS\", \"XXS\"]\n",
    "df_filtered = df[df[\"Frame Size\"].isin(frame_sizes_to_keep)]\n",
    "df=df_filtered"
   ]
  },
  {
   "cell_type": "markdown",
   "id": "cc3de090-fed5-4b04-a3c4-c98836aa71ad",
   "metadata": {},
   "source": [
    "<h4> Year Clean up</h4>"
   ]
  },
  {
   "cell_type": "code",
   "execution_count": 115,
   "id": "69fd75b4-db52-4af2-8287-bd8df37da937",
   "metadata": {},
   "outputs": [
    {
     "name": "stdout",
     "output_type": "stream",
     "text": [
      "Year\n",
      "2022    1516\n",
      "2023    1214\n",
      "2021    1181\n",
      "2020     216\n",
      "2019     154\n",
      "2018     122\n",
      "2024     120\n",
      "2016      48\n",
      "2017      47\n",
      "2015      39\n",
      "2014      23\n",
      "2013       9\n",
      "2009       4\n",
      "2012       4\n",
      "2010       3\n",
      "2001       3\n",
      "2003       3\n",
      "Name: count, dtype: int64\n"
     ]
    }
   ],
   "source": [
    "df = df[df[\"Year\"] != 0]\n",
    "print(df[\"Year\"].value_counts())"
   ]
  },
  {
   "cell_type": "markdown",
   "id": "3ec7546c-407a-4191-a5dd-82c78d467509",
   "metadata": {},
   "source": [
    "<h5> Clean up and EDA of the rest of the columns  </h5>"
   ]
  },
  {
   "cell_type": "code",
   "execution_count": 117,
   "id": "19c99913-951a-4087-993d-598c55ea2d8b",
   "metadata": {},
   "outputs": [
    {
     "data": {
      "text/plain": [
       "URL                             0\n",
       "Brand                           0\n",
       "Model                           0\n",
       "Year                            0\n",
       "Category                        0\n",
       "Frame Size                      0\n",
       "Wheel Size                      0\n",
       "Reach                          24\n",
       "Stack                          74\n",
       "STR                            74\n",
       "Head Tube Angle                 8\n",
       "Seat Tube Angle Effective     800\n",
       "Top Tube Length              2904\n",
       "Standover Height             2029\n",
       "Chainstay Length               29\n",
       "Wheelbase                     223\n",
       "dtype: int64"
      ]
     },
     "execution_count": 117,
     "metadata": {},
     "output_type": "execute_result"
    }
   ],
   "source": [
    "df.isnull().sum()"
   ]
  },
  {
   "cell_type": "code",
   "execution_count": null,
   "id": "af6cfd29-b45a-4ec6-bee8-101aa1747669",
   "metadata": {},
   "outputs": [],
   "source": [
    "df.eq('').sum()"
   ]
  },
  {
   "cell_type": "code",
   "execution_count": null,
   "id": "79b2ecd3-9232-4812-b1e8-bd1969673b41",
   "metadata": {},
   "outputs": [],
   "source": [
    "print(df.columns.tolist())"
   ]
  },
  {
   "cell_type": "code",
   "execution_count": 119,
   "id": "8c236feb-f0c5-4df1-9792-26bcc612be50",
   "metadata": {},
   "outputs": [
    {
     "name": "stdout",
     "output_type": "stream",
     "text": [
      "                           Missing Values  Percentage\n",
      "Top Tube Length                      2904   61.708457\n",
      "Standover Height                     2029   43.115172\n",
      "Seat Tube Angle Effective             800   16.999575\n",
      "Wheelbase                             223    4.738632\n",
      "Stack                                  74    1.572461\n",
      "STR                                    74    1.572461\n",
      "Chainstay Length                       29    0.616235\n",
      "Reach                                  24    0.509987\n",
      "Head Tube Angle                         8    0.169996\n"
     ]
    }
   ],
   "source": [
    "missing_values = df.isnull().sum().sort_values(ascending=False)\n",
    "missing_values_percentage = (missing_values / len(df)) * 100\n",
    "missing_df = pd.DataFrame({'Missing Values': missing_values, 'Percentage': missing_values_percentage})\n",
    "missing_df = missing_df[missing_df[\"Missing Values\"] > 0]\n",
    "print(missing_df)"
   ]
  },
  {
   "cell_type": "code",
   "execution_count": null,
   "id": "47f187b1-6493-4984-a07f-cadabd5c98f0",
   "metadata": {},
   "outputs": [],
   "source": [
    "df = df.round(2)\n",
    "df"
   ]
  },
  {
   "cell_type": "markdown",
   "id": "e0138148-597f-4b18-baf4-e1e73e39791e",
   "metadata": {},
   "source": [
    "<h5> Clean and remove duplicates </h5>"
   ]
  },
  {
   "cell_type": "code",
   "execution_count": null,
   "id": "b81c4c7c-4a05-4c2c-b731-91a068dc707d",
   "metadata": {},
   "outputs": [],
   "source": [
    "df = df.drop_duplicates()\n",
    "df.duplicated().sum()"
   ]
  },
  {
   "cell_type": "markdown",
   "id": "18dede1d-ba80-4e5e-8293-cd925a1696c0",
   "metadata": {},
   "source": [
    "<h5> Clean up and categorise bike types </h5>"
   ]
  },
  {
   "cell_type": "code",
   "execution_count": 121,
   "id": "92349f65-9c4a-4ea0-a123-ea93036b9d54",
   "metadata": {},
   "outputs": [],
   "source": [
    "def categorize_bike_types(df):\n",
    "    category_map = {\n",
    "        \"XC\": \"Cross Country\", \"TRAIL\": \"Trail\", \"ENDURO\": \"Enduro\", \"DH\": \"Downhill\",\n",
    "        \"ROAD\": \"Gravel/Road\"\n",
    "    }\n",
    "    if \"CATEGORY\" in df.columns:\n",
    "        df[\"CATEGORY\"] = df[\"CATEGORY\"].str.upper().map(category_map).fillna(\"OTHER\")\n",
    "    return df"
   ]
  },
  {
   "cell_type": "markdown",
   "id": "dddd04d6-4e46-4488-b57a-d00f5587098c",
   "metadata": {},
   "source": [
    "<h5> Standardise Brand & Model names </h5>"
   ]
  },
  {
   "cell_type": "code",
   "execution_count": 123,
   "id": "3819d4c3-a371-411c-a2f5-c5f40fc87f77",
   "metadata": {},
   "outputs": [],
   "source": [
    "def standardize_brand_model(df):\n",
    "    if \"BRAND\" in df.columns:\n",
    "        df[\"BRAND\"] = df[\"BRAND\"].str.strip().str.upper()\n",
    "    if \"MODEL\" in df.columns:\n",
    "        df[\"MODEL\"] = df[\"MODEL\"].str.strip().str.upper()\n",
    "    return df"
   ]
  },
  {
   "cell_type": "markdown",
   "id": "b4c7d588-ce2e-4677-b48e-68dec94401e9",
   "metadata": {},
   "source": [
    "<h5> Missing Values Heatmap</h5>\n"
   ]
  },
  {
   "cell_type": "code",
   "execution_count": null,
   "id": "3560a7ce-0db7-409b-badf-bbcbce2bf1dd",
   "metadata": {},
   "outputs": [],
   "source": [
    "plt.figure(figsize=(12, 6))\n",
    "sns.heatmap(df.isnull(), cbar=False, cmap=\"viridis\")\n",
    "plt.title(\"Missing Values Heatmap\")\n",
    "plt.show()"
   ]
  },
  {
   "cell_type": "markdown",
   "id": "c1257edf-0370-4ccb-a18e-005a67de03d8",
   "metadata": {},
   "source": [
    "<h5> Correlation Matrix </h5>"
   ]
  },
  {
   "cell_type": "code",
   "execution_count": null,
   "id": "207bc4b0-b6ae-4ea9-bf9f-5d92e40c541a",
   "metadata": {},
   "outputs": [],
   "source": [
    "plt.figure(figsize=(14, 8))\n",
    "sns.heatmap(df.corr(numeric_only=True), annot=True, cmap=\"coolwarm\", linewidths=0.5)\n",
    "plt.title(\"Correlation Matrix\")\n",
    "plt.show()\n"
   ]
  },
  {
   "cell_type": "markdown",
   "id": "9b5146fb-234b-4236-b7f8-9ab0016b1c19",
   "metadata": {},
   "source": [
    "<h5> Feature Distributions </h5>"
   ]
  },
  {
   "cell_type": "code",
   "execution_count": null,
   "id": "0cbe6a80-fcfb-41b0-ac94-81300632d8c5",
   "metadata": {},
   "outputs": [],
   "source": [
    "df.hist(figsize=(14, 10), bins=30, edgecolor=\"black\")\n",
    "plt.suptitle(\"Feature Distributions\", fontsize=16)\n",
    "plt.show()"
   ]
  },
  {
   "cell_type": "markdown",
   "id": "5a8245de-edd1-4e89-b521-fa6824c527d6",
   "metadata": {},
   "source": [
    "<h5> Boxplots of Numerical Features </h5>"
   ]
  },
  {
   "cell_type": "code",
   "execution_count": null,
   "id": "26b23130-fe57-4a3f-9898-584ddaf726c8",
   "metadata": {},
   "outputs": [],
   "source": [
    "plt.figure(figsize=(14, 8))\n",
    "df.boxplot(rot=90)  # Rotate labels for readability\n",
    "plt.title(\"Boxplots of Numerical Features\")\n",
    "plt.show()"
   ]
  },
  {
   "cell_type": "markdown",
   "id": "ed4991d1-a335-4c63-8366-dca6faae80a0",
   "metadata": {},
   "source": [
    "<h5> Reach vs Stack by Bike Category (Sampled 1000) </h5>"
   ]
  },
  {
   "cell_type": "code",
   "execution_count": null,
   "id": "4947c1c1-6297-4515-9042-b06d1c9c622a",
   "metadata": {},
   "outputs": [],
   "source": [
    "plt.figure(figsize=(12, 6))\n",
    "sns.scatterplot(x=\"Reach\", y=\"Stack\", hue=\"Category\", data=df.sample(1000, random_state=42), alpha=0.7)\n",
    "plt.title(\"Reach vs Stack by Bike Category (Sampled 1000)\")\n",
    "plt.legend(loc=\"upper left\", bbox_to_anchor=(1, 1))\n",
    "plt.show()"
   ]
  },
  {
   "cell_type": "code",
   "execution_count": null,
   "id": "3c1b6bba-8ba7-4c41-a4bb-b6051d15faa7",
   "metadata": {},
   "outputs": [],
   "source": [
    "<h5> Distribution of Wheel Sizes </h5>"
   ]
  },
  {
   "cell_type": "code",
   "execution_count": null,
   "id": "42bf5ad6-2726-4335-81ae-8430d5380552",
   "metadata": {},
   "outputs": [],
   "source": [
    "plt.figure(figsize=(10, 5))\n",
    "sns.countplot(y=df[\"Wheel Size\"], order=df[\"Wheel Size\"].value_counts().index, palette=\"coolwarm\")\n",
    "plt.title(\"Distribution of Wheel Sizes\")\n",
    "plt.xlabel(\"Count\")\n",
    "plt.ylabel(\"Wheel Size\")\n",
    "plt.show()"
   ]
  },
  {
   "cell_type": "code",
   "execution_count": null,
   "id": "72126766-5662-4e4c-ab7a-5218f2b7cff4",
   "metadata": {},
   "outputs": [],
   "source": [
    "<h5> Wheel Size Distribution by Bike Type </h5>"
   ]
  },
  {
   "cell_type": "code",
   "execution_count": null,
   "id": "35ef9d08-6e6b-4608-a039-0167cd52cee6",
   "metadata": {
    "scrolled": true
   },
   "outputs": [],
   "source": [
    "plt.figure(figsize=(10, 5))\n",
    "wheel_type_counts = df.groupby([\"Wheel Size\", \"Category\"]).size().unstack()\n",
    "wheel_type_counts.plot(kind=\"barh\", figsize=(10, 5), colormap=\"coolwarm\", edgecolor=\"black\")\n",
    "\n",
    "plt.title(\"Wheel Size Distribution by Bike Type\")\n",
    "plt.ylabel(\"Wheel Size\")\n",
    "plt.xlabel(\"Count\")\n",
    "plt.legend(title=\"Bike Type\")\n",
    "plt.grid(axis=\"x\", linestyle=\"--\", alpha=0.7)\n",
    "plt.show()"
   ]
  },
  {
   "cell_type": "code",
   "execution_count": null,
   "id": "69479f61-8842-4e17-bbbf-8fde17add59f",
   "metadata": {},
   "outputs": [],
   "source": [
    "<h5> Distribution of Standard Frame Sizes </h5>"
   ]
  },
  {
   "cell_type": "code",
   "execution_count": null,
   "id": "e5625fcc-161a-49dd-9e13-2fff6197ad65",
   "metadata": {},
   "outputs": [],
   "source": [
    "plt.figure(figsize=(10,5))\n",
    "sns.countplot(data=df, x=\"Frame Size\", order=df[\"Frame Size\"].value_counts().index)\n",
    "plt.xticks(rotation=45)\n",
    "plt.title(\"Distribution of Frame Sizes\")\n",
    "plt.show()\n"
   ]
  },
  {
   "cell_type": "markdown",
   "id": "e68e95fb-6cb6-44ab-a224-dd465141840a",
   "metadata": {},
   "source": [
    "<h5> Reach vs Stack (Bike Fit) </h5>"
   ]
  },
  {
   "cell_type": "code",
   "execution_count": null,
   "id": "78e7ea7d-26e8-4a2d-8ac0-5011b79ebed5",
   "metadata": {},
   "outputs": [],
   "source": [
    "plt.figure(figsize=(10,5))\n",
    "sns.scatterplot(data=df, x=\"Reach\", y=\"Stack\", hue=\"Frame Size\")\n",
    "plt.title(\"Reach vs Stack (Bike Fit)\")\n",
    "plt.show()\n"
   ]
  },
  {
   "cell_type": "markdown",
   "id": "415783fb-e413-4893-926c-5b08bd2d7448",
   "metadata": {},
   "source": [
    "<h5> Head Tube Angle Over Time </h5>"
   ]
  },
  {
   "cell_type": "code",
   "execution_count": null,
   "id": "709f8dd1-9ced-4b63-b71d-32f763bb3bd9",
   "metadata": {},
   "outputs": [],
   "source": [
    "plt.figure(figsize=(10,5))\n",
    "sns.lineplot(data=df, x=\"Year\", y=\"Head Tube Angle\")\n",
    "plt.title(\"Head Tube Angle Over Time\")\n",
    "plt.show()\n"
   ]
  },
  {
   "cell_type": "markdown",
   "id": "b08aba72-0c14-436d-9772-a9973c23c320",
   "metadata": {},
   "source": [
    "<h5> Head Tube Angle Over Time by Category </h5>"
   ]
  },
  {
   "cell_type": "code",
   "execution_count": null,
   "id": "ea0f968e-f5b5-4b3a-b273-7069b45eab78",
   "metadata": {},
   "outputs": [],
   "source": [
    "plt.figure(figsize=(10,5))\n",
    "sns.lineplot(data=df, x=\"Year\", y=\"Head Tube Angle\", hue=\"Category\")\n",
    "plt.title(\"Head Tube Angle Over Time by Category\")\n",
    "plt.show()"
   ]
  },
  {
   "cell_type": "markdown",
   "id": "14dce48b-b7f0-4528-aac1-873eda97f4fd",
   "metadata": {},
   "source": [
    "<h4> Statisticaly Analysis </h4>"
   ]
  },
  {
   "cell_type": "markdown",
   "id": "58438b9f-448d-4517-a24e-27277faad0ed",
   "metadata": {},
   "source": [
    "<h4>Wheel Size Trends Over Years - ANOVO</h4>"
   ]
  },
  {
   "cell_type": "code",
   "execution_count": 138,
   "id": "4b6befa8-c24b-4dc2-a03c-abeedba09c45",
   "metadata": {},
   "outputs": [
    {
     "name": "stdout",
     "output_type": "stream",
     "text": [
      "Wheel Size Trends Over Years (ANOVA)\n",
      "F-Statistic: 35.84\n",
      "P-Value: 0.00000\n",
      "Significant difference in wheel size across years.\n"
     ]
    }
   ],
   "source": [
    "\n",
    "def clean_wheel_size(value):\n",
    "    cleaned_value = re.sub(r'[^\\d\\.]', '', str(value))\n",
    "    try:\n",
    "        return float(cleaned_value)\n",
    "    except ValueError:\n",
    "        return np.nan  \n",
    "\n",
    "# ✅ Group wheel sizes by year for ANOVA\n",
    "wheel_sizes_by_year = [group[\"Wheel Size\"].values for _, group in df.groupby(\"Year\")]\n",
    "\n",
    "# ✅ Perform one-way ANOVA\n",
    "f_stat, p_value = stats.f_oneway(*wheel_sizes_by_year)\n",
    "\n",
    "# ✅ Display results\n",
    "print(\"Wheel Size Trends Over Years (ANOVA)\")\n",
    "print(f\"F-Statistic: {f_stat:.2f}\")\n",
    "print(f\"P-Value: {p_value:.5f}\")\n",
    "if p_value < 0.05:\n",
    "    print(\"Significant difference in wheel size across years.\")\n"
   ]
  },
  {
   "cell_type": "code",
   "execution_count": 140,
   "id": "195f4b90-6b00-4127-91fa-bbd5500c5cca",
   "metadata": {},
   "outputs": [],
   "source": [
    "## The ANOVA test shows a statistically significant difference in wheel size across years, with an F-statistic of 35.84 and a p-value less than 0.00001. This means the mean wheel size has changed significantly over time. The high F-statistic indicates substantial differences between years relative to within-year variability."
   ]
  },
  {
   "cell_type": "markdown",
   "id": "0f596701-8bea-4056-b656-a4dfb04f1006",
   "metadata": {},
   "source": [
    "<h4>Frame Size Trends Over Years - ANOVO</h4>"
   ]
  },
  {
   "cell_type": "code",
   "execution_count": 155,
   "id": "06715dec-5b9b-467b-875c-130c9bcd6419",
   "metadata": {},
   "outputs": [
    {
     "name": "stdout",
     "output_type": "stream",
     "text": [
      "Frame Size Trends Over Years (ANOVA)\n",
      "F-Statistic: 5.34\n",
      "P-Value: 0.00000\n",
      "Significant difference in frame size across years.\n"
     ]
    }
   ],
   "source": [
    "df = df.dropna(subset=[\"Frame Size\", \"Year\"])\n",
    "\n",
    "df[\"Frame Size\"] = pd.to_numeric(df[\"Frame Size\"], errors='coerce')\n",
    "df = df.dropna(subset=[\"Frame Size\"])\n",
    "\n",
    "frame_sizes_by_year = [group[\"Frame Size\"].values for _, group in df.groupby(\"Year\")]\n",
    "\n",
    "f_stat, p_value = stats.f_oneway(*frame_sizes_by_year)\n",
    "\n",
    "print(\"Frame Size Trends Over Years (ANOVA)\")\n",
    "print(f\"F-Statistic: {f_stat:.2f}\")\n",
    "print(f\"P-Value: {p_value:.5f}\")\n",
    "if p_value < 0.05:\n",
    "    print(\"Significant difference in frame size across years.\")\n"
   ]
  },
  {
   "cell_type": "code",
   "execution_count": 157,
   "id": "44573c03-d25e-4292-92b2-2f63a765fb86",
   "metadata": {},
   "outputs": [],
   "source": [
    "## The ANOVA test indicates a statistically significant difference in frame size across years, with an F-statistic of 5.34 and a p-value less than 0.00001. This suggests that the mean frame size has changed significantly over time."
   ]
  },
  {
   "cell_type": "markdown",
   "id": "e2319f86-1d7c-4054-9f18-f838c03faeb7",
   "metadata": {},
   "source": [
    "<h4>T- Test for Wheelbase (Mountain vs. Road Bikes)- ANOVO</h4>"
   ]
  },
  {
   "cell_type": "code",
   "execution_count": 174,
   "id": "3a9f3c71-7e7d-4575-808a-83594f935515",
   "metadata": {},
   "outputs": [
    {
     "name": "stdout",
     "output_type": "stream",
     "text": [
      "T-Test: Wheelbase Comparison (Mountain vs. Road)\n",
      "T-Statistic: 19.40\n",
      "P-Value: 0.00000\n",
      "Significant difference in wheelbase between Mountain and Road bikes.\n"
     ]
    }
   ],
   "source": [
    "t_stat, p_value = stats.ttest_ind(mountain_bikes, road_bikes, equal_var=False)\n",
    "\n",
    "print(\"T-Test: Wheelbase Comparison (Mountain vs. Road)\")\n",
    "print(f\"T-Statistic: {t_stat:.2f}\")\n",
    "print(f\"P-Value: {p_value:.5f}\")\n",
    "if p_value < 0.05:\n",
    "        print(\"Significant difference in wheelbase between Mountain and Road bikes.\")\n"
   ]
  },
  {
   "cell_type": "code",
   "execution_count": null,
   "id": "fda5a061-1116-49ca-b086-c1b349028441",
   "metadata": {},
   "outputs": [],
   "source": [
    "## The T-test shows a statistically significant difference in wheelbase between mountain and road bikes, with a t-statistic of 19.40 and a p-value less than 0.00001. This indicates that the mean wheelbase of mountain bikes is significantly different from that of road bikes."
   ]
  },
  {
   "cell_type": "markdown",
   "id": "2d4dba4f-cdff-4f34-96c0-4adebedc985f",
   "metadata": {},
   "source": [
    "<h4>Save motified DF to a new CSV file to use for Tableau and Streamlit</h4>"
   ]
  },
  {
   "cell_type": "code",
   "execution_count": null,
   "id": "dff7bdff-35f3-4c43-b020-235acbc57a7d",
   "metadata": {},
   "outputs": [],
   "source": [
    "new_filename = f\"/Users/susanakohlhaas/Documents/IronHack/Final Project/geometrics_modifiedv3.csv\"\n",
    "\n",
    "# Save the modified DataFrame to a new CSV file\n",
    "df.to_csv(new_filename, sep=';', index=False)\n"
   ]
  }
 ],
 "metadata": {
  "kernelspec": {
   "display_name": "Python 3 (ipykernel)",
   "language": "python",
   "name": "python3"
  },
  "language_info": {
   "codemirror_mode": {
    "name": "ipython",
    "version": 3
   },
   "file_extension": ".py",
   "mimetype": "text/x-python",
   "name": "python",
   "nbconvert_exporter": "python",
   "pygments_lexer": "ipython3",
   "version": "3.11.7"
  }
 },
 "nbformat": 4,
 "nbformat_minor": 5
}
